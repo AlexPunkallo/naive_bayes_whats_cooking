{
 "cells": [
  {
   "cell_type": "markdown",
   "metadata": {},
   "source": [
    "# Naive Bayes from scratch for \"What's cooking?\" Kaggle competition\n",
    "\n",
    "This challenge was the first public competition I tried on Kaggle. It was only one month I started to code and I was required to partecipate uploading a Naive Bayes algorithm written from scratch within a week from the assignment date.\n",
    "\n",
    "## Short description of the competition\n",
    "\n",
    "Picture yourself strolling through your local, open-air market... What do you see? What do you smell? What will you make for dinner tonight?\n",
    "\n",
    "If you're in Northern California, you'll be walking past the inevitable bushels of leafy greens, spiked with dark purple kale and the bright pinks and yellows of chard. Across the world in South Korea, mounds of bright red kimchi greet you, while the smell of the sea draws your attention to squids squirming nearby. India’s market is perhaps the most colorful, awash in the rich hues and aromas of dozens of spices: turmeric, star anise, poppy seeds, and garam masala as far as the eye can see.\n",
    "\n",
    "Some of our strongest geographic and cultural associations are tied to a region's local foods. \n",
    "\n",
    "This playground competitions asks you to predict the category of a dish's cuisine given a list of its ingredients. \n",
    "\n",
    "## Implementation\n",
    "\n",
    "Let's recall the formula of Naive Bayes:\n",
    "\n",
    "![Screenshot](cooking.png)"
   ]
  },
  {
   "cell_type": "code",
   "execution_count": 2,
   "metadata": {},
   "outputs": [],
   "source": [
    "import json\n",
    "from collections import Counter\n",
    "import pandas as pd\n",
    "\n",
    "with open('train.json') as data_file: \n",
    "    train = json.load(data_file)\n",
    "with open('test.json') as data_file: \n",
    "    test = json.load(data_file)"
   ]
  },
  {
   "cell_type": "code",
   "execution_count": 3,
   "metadata": {},
   "outputs": [],
   "source": [
    "Prob_C ={}\n",
    "cousines = [item[\"cuisine\"] for item in train]\n",
    "cous_count  = dict(Counter(cousines))\n",
    "\n",
    "for key in cous_count:    \n",
    "    Prob_C[key] = float(cous_count[key])/float(len(cousines))    \n",
    "\n",
    "dict_cuis = {}\n",
    "dict_cuis = {cuis: [] for cuis in Prob_C.keys()}\n",
    "for item in train:\n",
    "    dict_cuis[item['cuisine']].extend(item['ingredients'])\n",
    "\n",
    "Prob_I_C = { cuis  : dict(Counter(dict_cuis[cuis])) for cuis in dict_cuis}\n",
    "output = pd.DataFrame(columns=[\"id\", \"cuisine\"])\n",
    "\n",
    "for item in test:\n",
    "    max = 0\n",
    "    max_cuis = \"\"\n",
    "    for cuis in Prob_C.keys():\n",
    "        prob = Prob_C[cuis]\n",
    "        for ingr in item[\"ingredients\"]:\n",
    "            if ingr in Prob_I_C[cuis].keys():\n",
    "                prob*=Prob_I_C[cuis][ingr]\n",
    "            else:\n",
    "                prob*=10**-6\n",
    "        if prob>max:\n",
    "            max = prob\n",
    "            max_cuis = cuis    \n",
    "    output = output.append({\"id\": int(item[\"id\"]), \"cuisine\": max_cuis}, ignore_index=True)\n",
    "    \n",
    "output.id = output.id.astype(int)\n",
    "output.to_csv(\"output.csv\", index=False)"
   ]
  },
  {
   "cell_type": "code",
   "execution_count": 5,
   "metadata": {
    "scrolled": false
   },
   "outputs": [
    {
     "name": "stdout",
     "output_type": "stream",
     "text": [
      "         id      cuisine\n",
      "0     18009  southern_us\n",
      "1     28583  southern_us\n",
      "2     41580      italian\n",
      "3     29752  southern_us\n",
      "4     35687      italian\n",
      "5     38527  southern_us\n",
      "6     19666      italian\n",
      "7     41217      chinese\n",
      "8     28753      mexican\n",
      "9     22659      british\n",
      "10    21749      mexican\n",
      "11    44967      italian\n",
      "12    42969       indian\n",
      "13    44883      italian\n",
      "14    20827      chinese\n",
      "15    23196      italian\n",
      "16    35387  southern_us\n",
      "17    33780  southern_us\n",
      "18    19001      mexican\n",
      "19    16526  southern_us\n",
      "20    42455      chinese\n",
      "21    47453       indian\n",
      "22    42478      italian\n",
      "23    11885   vietnamese\n",
      "24    16585      italian\n",
      "25    29639  southern_us\n",
      "26    26245         thai\n",
      "27    38516      chinese\n",
      "28    47520      italian\n",
      "29    26212      mexican\n",
      "...     ...          ...\n",
      "9914  49157      chinese\n",
      "9915  40847      italian\n",
      "9916  14084      italian\n",
      "9917   6802      italian\n",
      "9918  22381  southern_us\n",
      "9919  21016    brazilian\n",
      "9920  29024      italian\n",
      "9921   4478      chinese\n",
      "9922  36711       indian\n",
      "9923   8300      italian\n",
      "9924  47035  southern_us\n",
      "9925  15596      italian\n",
      "9926  19902  southern_us\n",
      "9927  31242  southern_us\n",
      "9928  21117       indian\n",
      "9929  15234      mexican\n",
      "9930  24993      chinese\n",
      "9931  31007      mexican\n",
      "9932  31687      mexican\n",
      "9933  13657      mexican\n",
      "9934  36612  southern_us\n",
      "9935  14008      chinese\n",
      "9936  32124      italian\n",
      "9937  43570      chinese\n",
      "9938  14059       indian\n",
      "9939  30246      italian\n",
      "9940  36028      mexican\n",
      "9941  22339      italian\n",
      "9942  42525      mexican\n",
      "9943   1443      mexican\n",
      "\n",
      "[9944 rows x 2 columns]\n"
     ]
    }
   ],
   "source": [
    "print output"
   ]
  }
 ],
 "metadata": {
  "kernelspec": {
   "display_name": "Python [conda env:py27]",
   "language": "python",
   "name": "conda-env-py27-py"
  },
  "language_info": {
   "codemirror_mode": {
    "name": "ipython",
    "version": 2
   },
   "file_extension": ".py",
   "mimetype": "text/x-python",
   "name": "python",
   "nbconvert_exporter": "python",
   "pygments_lexer": "ipython2",
   "version": "2.7.14"
  }
 },
 "nbformat": 4,
 "nbformat_minor": 2
}
